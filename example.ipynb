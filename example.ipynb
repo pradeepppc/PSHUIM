{
 "cells": [
  {
   "cell_type": "code",
   "execution_count": 4,
   "id": "3640f853",
   "metadata": {},
   "outputs": [],
   "source": [
    "from pyspark.sql import SparkSession"
   ]
  },
  {
   "cell_type": "code",
   "execution_count": 16,
   "id": "feaa8b0c",
   "metadata": {},
   "outputs": [
    {
     "name": "stdout",
     "output_type": "stream",
     "text": [
      "Number of partitions are 4\n"
     ]
    }
   ],
   "source": [
    "spark = SparkSession.builder.appName(\"example\").getOrCreate()\n",
    "data = [i for i in range(1,11)]\n",
    "rdd = spark.sparkContext.textFile(\"thesisDatabase.txt\", 4)\n",
    "\n",
    "rdd2 = rdd.flatMap(lambda x: x.strip().split(\":\"))\n",
    "print(\"Number of partitions are\", rdd.getNumPartitions())"
   ]
  },
  {
   "cell_type": "code",
   "execution_count": null,
   "id": "9b5ec7a0",
   "metadata": {},
   "outputs": [],
   "source": []
  },
  {
   "cell_type": "code",
   "execution_count": null,
   "id": "1290c3a1",
   "metadata": {},
   "outputs": [],
   "source": []
  }
 ],
 "metadata": {
  "kernelspec": {
   "display_name": "Python 3 (ipykernel)",
   "language": "python",
   "name": "python3"
  },
  "language_info": {
   "codemirror_mode": {
    "name": "ipython",
    "version": 3
   },
   "file_extension": ".py",
   "mimetype": "text/x-python",
   "name": "python",
   "nbconvert_exporter": "python",
   "pygments_lexer": "ipython3",
   "version": "3.9.6"
  }
 },
 "nbformat": 4,
 "nbformat_minor": 5
}
